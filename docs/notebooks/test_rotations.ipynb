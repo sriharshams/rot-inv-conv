{
 "cells": [
  {
   "cell_type": "code",
   "execution_count": 1,
   "metadata": {},
   "outputs": [
    {
     "name": "stderr",
     "output_type": "stream",
     "text": [
      "/Users/zhampel/py-venv/python3/lib/python3.6/site-packages/h5py/__init__.py:36: FutureWarning: Conversion of the second argument of issubdtype from `float` to `np.floating` is deprecated. In future, it will be treated as `np.float64 == np.dtype(float).type`.\n",
      "  from ._conv import register_converters as _register_converters\n"
     ]
    }
   ],
   "source": [
    "import numpy as np\n",
    "import tensorflow as tf"
   ]
  },
  {
   "cell_type": "markdown",
   "metadata": {},
   "source": [
    "# Right-Angle Matrix Rotations\n",
    "\n",
    "The $90^{\\circ}$ rotation of an $N \\times N$ matrix $K$ can accomplished via the following matrix operation:\n",
    "\n",
    "$$\n",
    "R(\\theta=90^{\\circ}) \\, K = K^{T} \\, \\overset{\\nearrow}{I}\n",
    "$$\n",
    "\n",
    "where $\\overset{\\nearrow}{I}$ is the anti-diagonal or **minor diagonal** $N \\times N$ identity matrix:\n",
    "\n",
    "$$\n",
    "\\overset{\\nearrow}{I}(i,N-i) =\n",
    "\\begin{cases}\n",
    "  1 \\, \\forall \\, i, \\\\\n",
    "  0 \\, \\text{otherwise}\n",
    "\\end{cases}\n",
    "$$"
   ]
  },
  {
   "cell_type": "markdown",
   "metadata": {},
   "source": [
    "# Minor Diagonal\n",
    "\n",
    "Generate matrix with minor diagonal containing all ones via swap."
   ]
  },
  {
   "cell_type": "code",
   "execution_count": 2,
   "metadata": {},
   "outputs": [],
   "source": [
    "def minor_eye(dim=3):\n",
    "    matrix = np.zeros(shape=(dim,dim), dtype='float32')\n",
    "    for i in range(dim):\n",
    "        matrix[i][dim-i-1] = 1.\n",
    "            \n",
    "    return matrix"
   ]
  },
  {
   "cell_type": "code",
   "execution_count": 4,
   "metadata": {},
   "outputs": [
    {
     "name": "stdout",
     "output_type": "stream",
     "text": [
      "Minor Diagonal Identity:\n",
      " [[0. 0. 1.]\n",
      " [0. 1. 0.]\n",
      " [1. 0. 0.]]\n"
     ]
    }
   ],
   "source": [
    "print('Minor Diagonal Identity:\\n', minor_eye(dim=3))"
   ]
  },
  {
   "cell_type": "markdown",
   "metadata": {},
   "source": [
    "# TensorFlow Eval\n",
    "\n",
    "Make a graph with placeholders for generic matrices."
   ]
  },
  {
   "cell_type": "code",
   "execution_count": 6,
   "metadata": {},
   "outputs": [],
   "source": [
    "# Define Placeholders with variable sizes\n",
    "g = tf.Graph()\n",
    "\n",
    "with g.as_default():\n",
    "    tf_k = tf.placeholder(tf.float32,\n",
    "                          shape=[None, None],\n",
    "                          name='tf_k')\n",
    "    \n",
    "    tf_e = tf.placeholder(tf.float32,\n",
    "                          shape=[None, None],\n",
    "                          name='tf_e')\n",
    "    \n",
    "    w_rot = tf.matmul(tf_k, \n",
    "                      tf_e, \n",
    "                      transpose_a=True,\n",
    "                      name='w_rot')"
   ]
  },
  {
   "cell_type": "markdown",
   "metadata": {},
   "source": [
    "# Run Rotation\n",
    "\n",
    "Start with random integer square matrix, rotate by 90 degress."
   ]
  },
  {
   "cell_type": "code",
   "execution_count": 7,
   "metadata": {},
   "outputs": [
    {
     "name": "stdout",
     "output_type": "stream",
     "text": [
      "Kernel shape:  (5, 5)\n",
      "Original Matrix:\n",
      " [[1. 3. 3. 4. 5.]\n",
      " [7. 5. 1. 6. 1.]\n",
      " [3. 4. 1. 9. 2.]\n",
      " [8. 6. 2. 6. 5.]\n",
      " [6. 4. 5. 2. 7.]]\n",
      "Rotated Matrix:\n",
      " [[6. 8. 3. 7. 1.]\n",
      " [4. 6. 4. 5. 3.]\n",
      " [5. 2. 1. 1. 3.]\n",
      " [2. 6. 9. 6. 4.]\n",
      " [7. 5. 2. 1. 5.]]\n"
     ]
    }
   ],
   "source": [
    "dim = 5\n",
    "with tf.Session(graph=g) as sess:\n",
    "    kernel = np.random.randint(low=0, high=10, \n",
    "                               size=(dim, dim))\n",
    "    \n",
    "    print('Kernel shape: ', kernel.shape)\n",
    "    print('Original Matrix:\\n', sess.run(tf_k, feed_dict={tf_k : kernel}))\n",
    "    \n",
    "    meye = minor_eye(dim=dim)\n",
    "\n",
    "    print('Rotated Matrix:\\n', sess.run(w_rot, feed_dict={tf_k : kernel, tf_e : meye}))"
   ]
  },
  {
   "cell_type": "code",
   "execution_count": null,
   "metadata": {},
   "outputs": [],
   "source": []
  }
 ],
 "metadata": {
  "kernelspec": {
   "display_name": "Python 3",
   "language": "python",
   "name": "python3"
  },
  "language_info": {
   "codemirror_mode": {
    "name": "ipython",
    "version": 3
   },
   "file_extension": ".py",
   "mimetype": "text/x-python",
   "name": "python",
   "nbconvert_exporter": "python",
   "pygments_lexer": "ipython3",
   "version": "3.6.5"
  }
 },
 "nbformat": 4,
 "nbformat_minor": 2
}
