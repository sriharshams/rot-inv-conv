{
 "cells": [
  {
   "cell_type": "code",
   "execution_count": 1,
   "metadata": {},
   "outputs": [],
   "source": [
    "%matplotlib inline\n",
    "\n",
    "import matplotlib\n",
    "import numpy as np\n",
    "import matplotlib.pyplot as plt"
   ]
  },
  {
   "cell_type": "code",
   "execution_count": 2,
   "metadata": {},
   "outputs": [
    {
     "name": "stderr",
     "output_type": "stream",
     "text": [
      "Using TensorFlow backend.\n"
     ]
    }
   ],
   "source": [
    "%run ../load_data.py\n",
    "%run ../dir_utils.py"
   ]
  },
  {
   "cell_type": "markdown",
   "metadata": {},
   "source": [
    "# Test generator function"
   ]
  },
  {
   "cell_type": "code",
   "execution_count": 3,
   "metadata": {},
   "outputs": [
    {
     "name": "stdout",
     "output_type": "stream",
     "text": [
      "Classes: 10, Image Dims: (32, 32)\n",
      "Found 40000 images belonging to 10 classes.\n",
      "Found 10000 images belonging to 10 classes.\n"
     ]
    }
   ],
   "source": [
    "batch_size=128\n",
    "#filepath='/home/zhampel/insight/data/mnist/pngs'\n",
    "trainpath='/home/zhampel/insight/data/cifar-10-images'\n",
    "data_dir_struct = DataDirStruct(trainpath)\n",
    "train_gen, valid_gen = train_img_generator(dir_struct=data_dir_struct, \\\n",
    "                                           batch_size=batch_size, \\\n",
    "                                           val_split=0.2)"
   ]
  },
  {
   "cell_type": "code",
   "execution_count": 4,
   "metadata": {},
   "outputs": [
    {
     "name": "stdout",
     "output_type": "stream",
     "text": [
      "Classes: 10, Image Dims: (32, 32)\n",
      "Found 10000 images belonging to 10 classes.\n",
      "(32, 32, 3)\n",
      "10\n",
      "128\n"
     ]
    }
   ],
   "source": [
    "test_gen = test_img_generator(dir_struct=data_dir_struct, \\\n",
    "                              batch_size=batch_size)\n",
    "print(test_gen.image_shape)\n",
    "print(test_gen.num_classes)\n",
    "print(test_gen.batch_size)"
   ]
  },
  {
   "cell_type": "code",
   "execution_count": 5,
   "metadata": {},
   "outputs": [],
   "source": [
    "from keras.models import Sequential\n",
    "from keras.layers.core import Dense, Activation\n",
    "from keras.optimizers import SGD\n",
    "from keras.utils import np_utils\n",
    "\n",
    "np.random.seed(1671)\n",
    "np.set_printoptions(threshold='nan')"
   ]
  },
  {
   "cell_type": "code",
   "execution_count": 6,
   "metadata": {},
   "outputs": [],
   "source": [
    "import keras\n",
    "from keras.layers import Dense, Flatten\n",
    "from keras.layers import Conv2D, MaxPooling2D\n",
    "from keras.models import Sequential"
   ]
  },
  {
   "cell_type": "code",
   "execution_count": 7,
   "metadata": {},
   "outputs": [],
   "source": [
    "class History(keras.callbacks.Callback):\n",
    "    def on_train_begin(self, logs={}):\n",
    "        self.acc = []\n",
    "        self.val_acc = []\n",
    "        self.loss = []\n",
    "        self.val_loss = []\n",
    "\n",
    "    def on_epoch_end(self, batch, logs={}):\n",
    "        self.acc.append(logs.get('acc'))\n",
    "        self.val_acc.append(logs.get('val_acc'))\n",
    "        self.loss.append(logs.get('loss'))\n",
    "        self.val_loss.append(logs.get('val_loss'))"
   ]
  },
  {
   "cell_type": "code",
   "execution_count": 8,
   "metadata": {},
   "outputs": [],
   "source": [
    "# Grab input shape and class numbers from generator\n",
    "# Specifics\n",
    "batch_size = test_gen.batch_size\n",
    "epochs = 100\n",
    "input_shape = train_gen.image_shape\n",
    "num_classes = train_gen.num_classes\n",
    "# History\n",
    "history = History()\n",
    "# Model\n",
    "model = Sequential()\n",
    "model.add(Conv2D(32, kernel_size=(5, 5), strides=(1, 1),\n",
    "                 activation='relu',\n",
    "                 input_shape=input_shape))\n",
    "model.add(MaxPooling2D(pool_size=(2, 2), strides=(2, 2)))\n",
    "model.add(Conv2D(64, (5, 5), activation='relu'))\n",
    "model.add(MaxPooling2D(pool_size=(2, 2)))\n",
    "model.add(Flatten())\n",
    "model.add(Dense(1000, activation='relu'))\n",
    "model.add(Dense(num_classes, activation='softmax'))\n",
    "model.compile(loss=keras.losses.categorical_crossentropy,\n",
    "              optimizer=keras.optimizers.Adam(),\n",
    "              metrics=['accuracy'])"
   ]
  },
  {
   "cell_type": "code",
   "execution_count": 9,
   "metadata": {},
   "outputs": [
    {
     "name": "stdout",
     "output_type": "stream",
     "text": [
      "Epoch 1/100\n",
      "128/128 [==============================] - 4s 33ms/step - loss: 1.7570 - acc: 0.3648 - val_loss: 1.5834 - val_acc: 0.4430\n",
      "Epoch 2/100\n",
      "128/128 [==============================] - 3s 24ms/step - loss: 1.4399 - acc: 0.4752 - val_loss: 1.4265 - val_acc: 0.4930\n",
      "Epoch 3/100\n",
      "128/128 [==============================] - 3s 25ms/step - loss: 1.2950 - acc: 0.5377 - val_loss: 1.2214 - val_acc: 0.5672\n",
      "Epoch 4/100\n",
      "128/128 [==============================] - 3s 25ms/step - loss: 1.2189 - acc: 0.5674 - val_loss: 1.1633 - val_acc: 0.5875\n",
      "Epoch 5/100\n",
      "128/128 [==============================] - 3s 25ms/step - loss: 1.1339 - acc: 0.5975 - val_loss: 1.1742 - val_acc: 0.5828\n",
      "Epoch 6/100\n",
      "128/128 [==============================] - 3s 25ms/step - loss: 1.0748 - acc: 0.6218 - val_loss: 1.1317 - val_acc: 0.6086\n",
      "Epoch 7/100\n",
      "128/128 [==============================] - 3s 25ms/step - loss: 1.0201 - acc: 0.6456 - val_loss: 1.0762 - val_acc: 0.6250\n",
      "Epoch 8/100\n",
      "128/128 [==============================] - 3s 25ms/step - loss: 0.9565 - acc: 0.6639 - val_loss: 1.0243 - val_acc: 0.6477\n",
      "Epoch 9/100\n",
      "128/128 [==============================] - 3s 25ms/step - loss: 0.9025 - acc: 0.6857 - val_loss: 0.9792 - val_acc: 0.6414\n",
      "Epoch 10/100\n",
      "128/128 [==============================] - 3s 25ms/step - loss: 0.8525 - acc: 0.6992 - val_loss: 1.0468 - val_acc: 0.6461\n",
      "Epoch 11/100\n",
      "128/128 [==============================] - 3s 25ms/step - loss: 0.7873 - acc: 0.7236 - val_loss: 0.9681 - val_acc: 0.6625\n",
      "Epoch 12/100\n",
      "128/128 [==============================] - 3s 25ms/step - loss: 0.8111 - acc: 0.7204 - val_loss: 0.9864 - val_acc: 0.6484\n",
      "Epoch 13/100\n",
      "128/128 [==============================] - 3s 26ms/step - loss: 0.6887 - acc: 0.7643 - val_loss: 0.9986 - val_acc: 0.6617\n",
      "Epoch 14/100\n",
      "128/128 [==============================] - 3s 25ms/step - loss: 0.6762 - acc: 0.7645 - val_loss: 0.9803 - val_acc: 0.6641\n",
      "Epoch 15/100\n",
      "128/128 [==============================] - 3s 25ms/step - loss: 0.6341 - acc: 0.7817 - val_loss: 0.9640 - val_acc: 0.6945\n",
      "Epoch 16/100\n",
      "128/128 [==============================] - 3s 25ms/step - loss: 0.5669 - acc: 0.7999 - val_loss: 0.9424 - val_acc: 0.6859\n",
      "Epoch 17/100\n",
      "128/128 [==============================] - 3s 25ms/step - loss: 0.5723 - acc: 0.8049 - val_loss: 0.9608 - val_acc: 0.6914\n",
      "Epoch 18/100\n",
      "128/128 [==============================] - 3s 26ms/step - loss: 0.4618 - acc: 0.8436 - val_loss: 0.9603 - val_acc: 0.6945\n",
      "Epoch 19/100\n",
      "128/128 [==============================] - 3s 25ms/step - loss: 0.4892 - acc: 0.8314 - val_loss: 1.0667 - val_acc: 0.6711\n",
      "Epoch 20/100\n",
      "128/128 [==============================] - 3s 25ms/step - loss: 0.4226 - acc: 0.8580 - val_loss: 1.0474 - val_acc: 0.6844\n",
      "Epoch 21/100\n",
      "128/128 [==============================] - 3s 25ms/step - loss: 0.3481 - acc: 0.8846 - val_loss: 1.0670 - val_acc: 0.6875\n",
      "Epoch 22/100\n",
      "128/128 [==============================] - 3s 23ms/step - loss: 0.3832 - acc: 0.8655 - val_loss: 1.0209 - val_acc: 0.6883\n",
      "Epoch 23/100\n",
      "128/128 [==============================] - 3s 27ms/step - loss: 0.2404 - acc: 0.9240 - val_loss: 1.1010 - val_acc: 0.6945\n",
      "Epoch 24/100\n",
      "128/128 [==============================] - 3s 25ms/step - loss: 0.2788 - acc: 0.9053 - val_loss: 1.1590 - val_acc: 0.6820\n",
      "Epoch 25/100\n",
      "128/128 [==============================] - 3s 25ms/step - loss: 0.2259 - acc: 0.9250 - val_loss: 1.1905 - val_acc: 0.6961\n",
      "Epoch 26/100\n",
      "128/128 [==============================] - 3s 25ms/step - loss: 0.1873 - acc: 0.9410 - val_loss: 1.2215 - val_acc: 0.6883\n",
      "Epoch 27/100\n",
      "128/128 [==============================] - 3s 26ms/step - loss: 0.1925 - acc: 0.9379 - val_loss: 1.2388 - val_acc: 0.6820\n",
      "Epoch 28/100\n",
      "128/128 [==============================] - 3s 25ms/step - loss: 0.1264 - acc: 0.9629 - val_loss: 1.2979 - val_acc: 0.6922\n",
      "Epoch 29/100\n",
      "128/128 [==============================] - 3s 25ms/step - loss: 0.1242 - acc: 0.9617 - val_loss: 1.3300 - val_acc: 0.6945\n",
      "Epoch 30/100\n",
      "128/128 [==============================] - 3s 25ms/step - loss: 0.1102 - acc: 0.9670 - val_loss: 1.4588 - val_acc: 0.6914\n",
      "Epoch 31/100\n",
      "128/128 [==============================] - 3s 25ms/step - loss: 0.1020 - acc: 0.9694 - val_loss: 1.4170 - val_acc: 0.6758\n",
      "Epoch 32/100\n",
      "128/128 [==============================] - 3s 25ms/step - loss: 0.1110 - acc: 0.9660 - val_loss: 1.3955 - val_acc: 0.6836\n",
      "Epoch 33/100\n",
      "128/128 [==============================] - 3s 25ms/step - loss: 0.0672 - acc: 0.9809 - val_loss: 1.5905 - val_acc: 0.6836\n",
      "Epoch 34/100\n",
      "128/128 [==============================] - 3s 25ms/step - loss: 0.0756 - acc: 0.9775 - val_loss: 1.5900 - val_acc: 0.6703\n",
      "Epoch 35/100\n",
      "128/128 [==============================] - 3s 25ms/step - loss: 0.0691 - acc: 0.9803 - val_loss: 1.6630 - val_acc: 0.6734\n",
      "Epoch 36/100\n",
      "128/128 [==============================] - 3s 25ms/step - loss: 0.0624 - acc: 0.9805 - val_loss: 1.6848 - val_acc: 0.6766\n",
      "Epoch 37/100\n",
      "128/128 [==============================] - 3s 25ms/step - loss: 0.0879 - acc: 0.9719 - val_loss: 1.6772 - val_acc: 0.6789\n",
      "Epoch 38/100\n",
      "128/128 [==============================] - 3s 25ms/step - loss: 0.0548 - acc: 0.9829 - val_loss: 1.7426 - val_acc: 0.6930\n",
      "Epoch 39/100\n",
      "128/128 [==============================] - 3s 25ms/step - loss: 0.0558 - acc: 0.9818 - val_loss: 1.8092 - val_acc: 0.6695\n",
      "Epoch 40/100\n",
      "128/128 [==============================] - 3s 26ms/step - loss: 0.0599 - acc: 0.9800 - val_loss: 1.7284 - val_acc: 0.6930\n",
      "Epoch 41/100\n",
      "128/128 [==============================] - 3s 25ms/step - loss: 0.0518 - acc: 0.9839 - val_loss: 1.8237 - val_acc: 0.6813\n",
      "Epoch 42/100\n",
      "128/128 [==============================] - 3s 25ms/step - loss: 0.0795 - acc: 0.9724 - val_loss: 1.7513 - val_acc: 0.6859\n",
      "Epoch 43/100\n",
      "128/128 [==============================] - 3s 25ms/step - loss: 0.0518 - acc: 0.9833 - val_loss: 1.8219 - val_acc: 0.6789\n",
      "Epoch 44/100\n",
      "128/128 [==============================] - 3s 23ms/step - loss: 0.0731 - acc: 0.9759 - val_loss: 1.8030 - val_acc: 0.6813\n",
      "Epoch 45/100\n",
      "128/128 [==============================] - 3s 26ms/step - loss: 0.0593 - acc: 0.9807 - val_loss: 1.9072 - val_acc: 0.6766\n",
      "Epoch 46/100\n",
      "128/128 [==============================] - 3s 25ms/step - loss: 0.0707 - acc: 0.9761 - val_loss: 1.8819 - val_acc: 0.6602\n",
      "Epoch 47/100\n",
      "128/128 [==============================] - 3s 25ms/step - loss: 0.0721 - acc: 0.9762 - val_loss: 1.8693 - val_acc: 0.6797\n",
      "Epoch 48/100\n",
      "128/128 [==============================] - 3s 25ms/step - loss: 0.0367 - acc: 0.9892 - val_loss: 1.8917 - val_acc: 0.6836\n",
      "Epoch 49/100\n",
      "128/128 [==============================] - 3s 25ms/step - loss: 0.0409 - acc: 0.9874 - val_loss: 2.0380 - val_acc: 0.6789\n",
      "Epoch 50/100\n",
      "128/128 [==============================] - 3s 25ms/step - loss: 0.0450 - acc: 0.9860 - val_loss: 1.9870 - val_acc: 0.6703\n",
      "Epoch 51/100\n",
      "128/128 [==============================] - 3s 24ms/step - loss: 0.0478 - acc: 0.9851 - val_loss: 2.0113 - val_acc: 0.6656\n",
      "Epoch 52/100\n",
      "128/128 [==============================] - 3s 25ms/step - loss: 0.0429 - acc: 0.9861 - val_loss: 2.0141 - val_acc: 0.6750\n",
      "Epoch 53/100\n",
      "128/128 [==============================] - 3s 25ms/step - loss: 0.0402 - acc: 0.9882 - val_loss: 2.0081 - val_acc: 0.6828\n",
      "Epoch 54/100\n",
      "128/128 [==============================] - 3s 25ms/step - loss: 0.0612 - acc: 0.9788 - val_loss: 2.0644 - val_acc: 0.6641\n",
      "Epoch 55/100\n",
      "128/128 [==============================] - 3s 25ms/step - loss: 0.0452 - acc: 0.9838 - val_loss: 2.0128 - val_acc: 0.6703\n",
      "Epoch 56/100\n",
      "128/128 [==============================] - 3s 25ms/step - loss: 0.0614 - acc: 0.9799 - val_loss: 2.0218 - val_acc: 0.6836\n",
      "Epoch 57/100\n",
      "128/128 [==============================] - 3s 25ms/step - loss: 0.0437 - acc: 0.9853 - val_loss: 2.0664 - val_acc: 0.6594\n",
      "Epoch 58/100\n",
      "128/128 [==============================] - 3s 25ms/step - loss: 0.0264 - acc: 0.9921 - val_loss: 2.0844 - val_acc: 0.6922\n",
      "Epoch 59/100\n",
      "128/128 [==============================] - 3s 25ms/step - loss: 0.0438 - acc: 0.9860 - val_loss: 2.2026 - val_acc: 0.6734\n",
      "Epoch 60/100\n",
      "128/128 [==============================] - 3s 25ms/step - loss: 0.0533 - acc: 0.9833 - val_loss: 2.1276 - val_acc: 0.6594\n",
      "Epoch 61/100\n",
      "128/128 [==============================] - 3s 25ms/step - loss: 0.0334 - acc: 0.9894 - val_loss: 2.2387 - val_acc: 0.6742\n"
     ]
    },
    {
     "name": "stdout",
     "output_type": "stream",
     "text": [
      "Epoch 62/100\n",
      "128/128 [==============================] - 3s 26ms/step - loss: 0.0352 - acc: 0.9886 - val_loss: 2.2581 - val_acc: 0.6687\n",
      "Epoch 63/100\n",
      "128/128 [==============================] - 3s 25ms/step - loss: 0.0418 - acc: 0.9864 - val_loss: 2.3310 - val_acc: 0.6664\n",
      "Epoch 64/100\n",
      "128/128 [==============================] - 3s 26ms/step - loss: 0.0685 - acc: 0.9765 - val_loss: 2.1764 - val_acc: 0.6766\n",
      "Epoch 65/100\n",
      "128/128 [==============================] - 3s 25ms/step - loss: 0.0378 - acc: 0.9881 - val_loss: 2.2303 - val_acc: 0.6758\n",
      "Epoch 66/100\n",
      "128/128 [==============================] - 3s 24ms/step - loss: 0.0449 - acc: 0.9854 - val_loss: 2.2718 - val_acc: 0.6602\n",
      "Epoch 67/100\n",
      "128/128 [==============================] - 3s 26ms/step - loss: 0.0508 - acc: 0.9822 - val_loss: 2.2410 - val_acc: 0.6758\n",
      "Epoch 68/100\n",
      "128/128 [==============================] - 3s 25ms/step - loss: 0.0504 - acc: 0.9839 - val_loss: 2.2816 - val_acc: 0.6750\n",
      "Epoch 69/100\n",
      "128/128 [==============================] - 3s 25ms/step - loss: 0.0521 - acc: 0.9824 - val_loss: 2.2400 - val_acc: 0.6773\n",
      "Epoch 70/100\n",
      "128/128 [==============================] - 3s 25ms/step - loss: 0.0428 - acc: 0.9860 - val_loss: 2.3189 - val_acc: 0.6719\n",
      "Epoch 71/100\n",
      "128/128 [==============================] - 3s 25ms/step - loss: 0.0259 - acc: 0.9924 - val_loss: 2.3338 - val_acc: 0.6719\n",
      "Epoch 72/100\n",
      "128/128 [==============================] - 3s 25ms/step - loss: 0.0259 - acc: 0.9917 - val_loss: 2.3563 - val_acc: 0.6687\n",
      "Epoch 73/100\n",
      "128/128 [==============================] - 3s 24ms/step - loss: 0.0338 - acc: 0.9885 - val_loss: 2.4864 - val_acc: 0.6578\n",
      "Epoch 74/100\n",
      "128/128 [==============================] - 3s 25ms/step - loss: 0.0233 - acc: 0.9927 - val_loss: 2.5194 - val_acc: 0.6578\n",
      "Epoch 75/100\n",
      "128/128 [==============================] - 3s 25ms/step - loss: 0.0386 - acc: 0.9883 - val_loss: 2.4543 - val_acc: 0.6539\n",
      "Epoch 76/100\n",
      "128/128 [==============================] - 3s 25ms/step - loss: 0.0486 - acc: 0.9849 - val_loss: 2.4835 - val_acc: 0.6789\n",
      "Epoch 77/100\n",
      "128/128 [==============================] - 3s 25ms/step - loss: 0.0406 - acc: 0.9862 - val_loss: 2.4539 - val_acc: 0.6641\n",
      "Epoch 78/100\n",
      "128/128 [==============================] - 3s 25ms/step - loss: 0.0557 - acc: 0.9807 - val_loss: 2.4544 - val_acc: 0.6484\n",
      "Epoch 79/100\n",
      "128/128 [==============================] - 3s 25ms/step - loss: 0.0459 - acc: 0.9849 - val_loss: 2.5431 - val_acc: 0.6703\n",
      "Epoch 80/100\n",
      "128/128 [==============================] - 3s 25ms/step - loss: 0.0406 - acc: 0.9871 - val_loss: 2.5452 - val_acc: 0.6711\n",
      "Epoch 81/100\n",
      "128/128 [==============================] - 3s 25ms/step - loss: 0.0493 - acc: 0.9838 - val_loss: 2.5325 - val_acc: 0.6453\n",
      "Epoch 82/100\n",
      "128/128 [==============================] - 3s 25ms/step - loss: 0.0298 - acc: 0.9902 - val_loss: 2.4377 - val_acc: 0.6656\n",
      "Epoch 83/100\n",
      "128/128 [==============================] - 3s 25ms/step - loss: 0.0257 - acc: 0.9911 - val_loss: 2.3724 - val_acc: 0.6797\n",
      "Epoch 84/100\n",
      "128/128 [==============================] - 3s 26ms/step - loss: 0.0265 - acc: 0.9909 - val_loss: 2.4929 - val_acc: 0.6727\n",
      "Epoch 85/100\n",
      "128/128 [==============================] - 3s 25ms/step - loss: 0.0323 - acc: 0.9900 - val_loss: 2.5329 - val_acc: 0.6828\n",
      "Epoch 86/100\n",
      "128/128 [==============================] - 3s 25ms/step - loss: 0.0350 - acc: 0.9891 - val_loss: 2.6275 - val_acc: 0.6672\n",
      "Epoch 87/100\n",
      "128/128 [==============================] - 3s 25ms/step - loss: 0.0317 - acc: 0.9898 - val_loss: 2.6506 - val_acc: 0.6570\n",
      "Epoch 88/100\n",
      "128/128 [==============================] - 3s 24ms/step - loss: 0.0372 - acc: 0.9870 - val_loss: 2.5746 - val_acc: 0.6711\n",
      "Epoch 89/100\n",
      "128/128 [==============================] - 3s 26ms/step - loss: 0.0239 - acc: 0.9927 - val_loss: 2.6986 - val_acc: 0.6664\n",
      "Epoch 90/100\n",
      "128/128 [==============================] - 3s 25ms/step - loss: 0.0395 - acc: 0.9880 - val_loss: 2.6133 - val_acc: 0.6664\n",
      "Epoch 91/100\n",
      "128/128 [==============================] - 3s 25ms/step - loss: 0.0446 - acc: 0.9850 - val_loss: 2.7408 - val_acc: 0.6570\n",
      "Epoch 92/100\n",
      "128/128 [==============================] - 3s 25ms/step - loss: 0.0268 - acc: 0.9910 - val_loss: 2.5825 - val_acc: 0.6711\n",
      "Epoch 93/100\n",
      "128/128 [==============================] - 3s 25ms/step - loss: 0.0415 - acc: 0.9863 - val_loss: 2.6437 - val_acc: 0.6570\n",
      "Epoch 94/100\n",
      "128/128 [==============================] - 3s 25ms/step - loss: 0.0290 - acc: 0.9905 - val_loss: 2.6108 - val_acc: 0.6703\n",
      "Epoch 95/100\n",
      "128/128 [==============================] - 3s 25ms/step - loss: 0.0425 - acc: 0.9860 - val_loss: 2.7307 - val_acc: 0.6625\n",
      "Epoch 96/100\n",
      "128/128 [==============================] - 3s 25ms/step - loss: 0.0341 - acc: 0.9890 - val_loss: 2.6303 - val_acc: 0.6734\n",
      "Epoch 97/100\n",
      "128/128 [==============================] - 3s 25ms/step - loss: 0.0363 - acc: 0.9894 - val_loss: 2.7796 - val_acc: 0.6570\n",
      "Epoch 98/100\n",
      "128/128 [==============================] - 3s 25ms/step - loss: 0.0406 - acc: 0.9859 - val_loss: 2.7431 - val_acc: 0.6602\n",
      "Epoch 99/100\n",
      "128/128 [==============================] - 3s 25ms/step - loss: 0.0337 - acc: 0.9895 - val_loss: 2.8658 - val_acc: 0.6547\n",
      "Epoch 100/100\n",
      "128/128 [==============================] - 3s 25ms/step - loss: 0.0404 - acc: 0.9862 - val_loss: 2.6733 - val_acc: 0.6594\n"
     ]
    },
    {
     "data": {
      "text/plain": [
       "<keras.callbacks.History at 0x7f4640b39940>"
      ]
     },
     "execution_count": 9,
     "metadata": {},
     "output_type": "execute_result"
    }
   ],
   "source": [
    "# Run the training\n",
    "model.fit_generator(train_gen,\n",
    "                    steps_per_epoch=batch_size,\n",
    "                    epochs=epochs,\n",
    "                    verbose=1,\n",
    "                    validation_data=valid_gen,\n",
    "                    validation_steps=10,\n",
    "                    class_weight=None,\n",
    "                    callbacks=[history])"
   ]
  },
  {
   "cell_type": "code",
   "execution_count": 10,
   "metadata": {},
   "outputs": [
    {
     "name": "stdout",
     "output_type": "stream",
     "text": [
      "Test score: 2.7376998007297515\n",
      "Test accuracy: 0.659765625\n"
     ]
    }
   ],
   "source": [
    "# Evaluate score\n",
    "score = model.evaluate_generator(test_gen, steps=20, max_queue_size=256)\n",
    "print(\"Test score: {}\".format(score[0]))\n",
    "print(\"Test accuracy: {}\".format(score[1]))"
   ]
  },
  {
   "cell_type": "code",
   "execution_count": 11,
   "metadata": {},
   "outputs": [
    {
     "data": {
      "text/plain": [
       "<matplotlib.legend.Legend at 0x7f46403756a0>"
      ]
     },
     "execution_count": 11,
     "metadata": {},
     "output_type": "execute_result"
    },
    {
     "data": {
      "image/png": "[encoded data removed]",
      "text/plain": [
       "<Figure size 1008x360 with 2 Axes>"
      ]
     },
     "metadata": {},
     "output_type": "display_data"
    }
   ],
   "source": [
    "# Summarize history\n",
    "f = plt.figure(figsize=(14,5))\n",
    "\n",
    "# Summarize accuracy history\n",
    "plt.subplot(1,2,1)\n",
    "plt.plot(history.acc)\n",
    "plt.plot(history.val_acc)\n",
    "plt.title('Model Accuracy')\n",
    "plt.ylabel('Accuracy')\n",
    "plt.xlabel('Epoch')\n",
    "plt.legend(['train', 'val'], loc='upper left')\n",
    "\n",
    "plt.subplot(1,2,2)\n",
    "# Summarize loss history\n",
    "plt.plot(history.loss)\n",
    "plt.plot(history.val_loss)\n",
    "plt.title('Model Loss')\n",
    "plt.ylabel('Loss')\n",
    "plt.xlabel('Epoch')\n",
    "plt.legend(['train', 'val'], loc='upper right')\n",
    "#plt.show()"
   ]
  },
  {
   "cell_type": "code",
   "execution_count": null,
   "metadata": {},
   "outputs": [],
   "source": []
  }
 ],
 "metadata": {
  "kernelspec": {
   "display_name": "Python 2",
   "language": "python",
   "name": "python2"
  },
  "language_info": {
   "codemirror_mode": {
    "name": "ipython",
    "version": 3
   },
   "file_extension": ".py",
   "mimetype": "text/x-python",
   "name": "python",
   "nbconvert_exporter": "python",
   "pygments_lexer": "ipython3",
   "version": "3.5.2"
  }
 },
 "nbformat": 4,
 "nbformat_minor": 2
}
