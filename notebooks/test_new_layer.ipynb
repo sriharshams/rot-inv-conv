{
 "cells": [
  {
   "cell_type": "code",
   "execution_count": 1,
   "metadata": {},
   "outputs": [],
   "source": [
    "import numpy as np"
   ]
  },
  {
   "cell_type": "code",
   "execution_count": 2,
   "metadata": {},
   "outputs": [
    {
     "name": "stderr",
     "output_type": "stream",
     "text": [
      "Using TensorFlow backend.\n"
     ]
    }
   ],
   "source": [
    "%run ../load_data.py\n",
    "%run ../dir_utils.py"
   ]
  },
  {
   "cell_type": "markdown",
   "metadata": {},
   "source": [
    "# Declare generator function"
   ]
  },
  {
   "cell_type": "code",
   "execution_count": 3,
   "metadata": {},
   "outputs": [
    {
     "name": "stdout",
     "output_type": "stream",
     "text": [
      "Classes: 10, Image Dims: (32, 32)\n",
      "Found 40000 images belonging to 10 classes.\n",
      "Found 10000 images belonging to 10 classes.\n"
     ]
    }
   ],
   "source": [
    "batch_size=128\n",
    "#filepath='/home/zhampel/insight/data/mnist/pngs'\n",
    "trainpath='/home/zhampel/insight/data/cifar-10-images'\n",
    "data_dir_struct = DataDirStruct(trainpath)\n",
    "train_gen, valid_gen = train_img_generator(dir_struct=data_dir_struct, \\\n",
    "                                           batch_size=batch_size, \\\n",
    "                                           val_split=0.2)"
   ]
  },
  {
   "cell_type": "code",
   "execution_count": 4,
   "metadata": {},
   "outputs": [
    {
     "name": "stdout",
     "output_type": "stream",
     "text": [
      "Classes: 10, Image Dims: (32, 32)\n",
      "Found 10000 images belonging to 10 classes.\n",
      "(32, 32, 3)\n",
      "10\n",
      "128\n"
     ]
    }
   ],
   "source": [
    "test_gen = test_img_generator(dir_struct=data_dir_struct, \\\n",
    "                              batch_size=batch_size)\n",
    "print(test_gen.image_shape)\n",
    "print(test_gen.num_classes)\n",
    "print(test_gen.batch_size)"
   ]
  },
  {
   "cell_type": "code",
   "execution_count": 5,
   "metadata": {},
   "outputs": [],
   "source": [
    "import keras\n",
    "from keras.layers import Dense, Flatten, Activation\n",
    "from keras.layers import Conv2D, MaxPooling2D\n",
    "from keras.models import Sequential\n",
    "from keras.utils import np_utils\n",
    "\n",
    "\n",
    "np.random.seed(1671)\n",
    "np.set_printoptions(threshold='nan')"
   ]
  },
  {
   "cell_type": "code",
   "execution_count": 6,
   "metadata": {},
   "outputs": [],
   "source": [
    "class History(keras.callbacks.Callback):\n",
    "    def on_train_begin(self, logs={}):\n",
    "        self.acc = []\n",
    "        self.val_acc = []\n",
    "        self.loss = []\n",
    "        self.val_loss = []\n",
    "\n",
    "    def on_epoch_end(self, batch, logs={}):\n",
    "        self.acc.append(logs.get('acc'))\n",
    "        self.val_acc.append(logs.get('val_acc'))\n",
    "        self.loss.append(logs.get('loss'))\n",
    "        self.val_loss.append(logs.get('val_loss'))"
   ]
  },
  {
   "cell_type": "code",
   "execution_count": 7,
   "metadata": {},
   "outputs": [],
   "source": [
    "from keras.layers.convolutional import Convolution2D\n",
    "from keras import backend as K\n",
    "import tensorflow as tf"
   ]
  },
  {
   "cell_type": "code",
   "execution_count": 8,
   "metadata": {},
   "outputs": [],
   "source": [
    "permutation = [[1, 0], [0, 0], [0, 1], [2, 0], [1, 1], [0, 2], [2, 1], [2, 2], [1, 2]]\n",
    "\n",
    "\n",
    "def shift_rotate(w, shift=1):\n",
    "    shape = w.get_shape()\n",
    "    for i in range(shift):\n",
    "        w = tf.reshape(tf.gather_nd(w, permutation), shape)\n",
    "    return w"
   ]
  },
  {
   "cell_type": "code",
   "execution_count": 9,
   "metadata": {},
   "outputs": [],
   "source": [
    "# Initialize session\n",
    "import tensorflow as tf\n",
    "\n",
    "sess = tf.InteractiveSession()\n",
    "\n",
    "# Some tensor we want to print the value of\n",
    "a = tf.constant([1.0, 3.0])\n",
    "\n",
    "# Add print operation\n",
    "a = tf.Print(a, [a], message=\"This is a: \")\n",
    "\n",
    "# Add more elements of the graph using a\n",
    "b = tf.add(a, a)\n",
    "\n",
    "b_eval = b.eval()\n",
    "sess.close()"
   ]
  },
  {
   "cell_type": "code",
   "execution_count": 14,
   "metadata": {},
   "outputs": [],
   "source": [
    "class Convolution2D_4(Convolution2D):\n",
    "    def call(self, x, mask=None):\n",
    "        w = self.kernel\n",
    "        w_rot = [w]\n",
    "        for i in range(3):\n",
    "            w = shift_rotate(w, shift=2)\n",
    "            w_rot.append(w)\n",
    "\n",
    "        outputs = tf.stack([K.conv2d(x, w_i, strides=self.strides,\n",
    "                                     padding=self.padding,\n",
    "                                     data_format=self.data_format) for w_i in w_rot])\n",
    "\n",
    "        output = K.max(outputs, 0)\n",
    "\n",
    "        if self.bias:\n",
    "            if self.data_format == 'channels_first':\n",
    "                output += K.reshape(self.bias, (1, self.filters, 1, 1))\n",
    "            elif self.data_format == 'channels_last':\n",
    "                output += K.reshape(self.bias, (1, 1, 1, self.filters))\n",
    "            else:\n",
    "                raise ValueError('Invalid data_format:', self.data_format)\n",
    "        output = self.activation(output)\n",
    "        return output"
   ]
  },
  {
   "cell_type": "code",
   "execution_count": 16,
   "metadata": {},
   "outputs": [],
   "source": [
    "# Grab input shape and class numbers from generator\n",
    "# Specifics\n",
    "batch_size = test_gen.batch_size\n",
    "epochs = 100\n",
    "input_shape = train_gen.image_shape\n",
    "num_classes = train_gen.num_classes\n",
    "# History\n",
    "history = History()\n",
    "# Model\n",
    "model = Sequential()\n",
    "#model.add(Conv2D(32, kernel_size=(5, 5), strides=(1, 1),\n",
    "#                 activation='relu',\n",
    "#                 input_shape=input_shape))\n",
    "model.add(Convolution2D_4(32, kernel_size=(3, 3), strides=(1,1), \n",
    "                          activation='relu',\n",
    "                          use_bias=False,\n",
    "                          input_shape=input_shape))\n",
    "model.add(MaxPooling2D(pool_size=(2, 2), strides=(2, 2)))\n",
    "model.add(Convolution2D_4(64, kernel_size=(3, 3),\n",
    "                          use_bias=False, \n",
    "                          padding='same', \n",
    "                          activation='relu'))\n",
    "model.add(MaxPooling2D(pool_size=(2, 2)))\n",
    "model.add(Flatten())\n",
    "model.add(Dense(1000, activation='relu'))\n",
    "model.add(Dense(num_classes, activation='softmax'))\n",
    "model.compile(loss=keras.losses.categorical_crossentropy,\n",
    "              optimizer=keras.optimizers.Adam(),\n",
    "              metrics=['accuracy'])"
   ]
  },
  {
   "cell_type": "code",
   "execution_count": 17,
   "metadata": {},
   "outputs": [
    {
     "name": "stdout",
     "output_type": "stream",
     "text": [
      "Epoch 1/100\n",
      "128/128 [==============================] - 7s 55ms/step - loss: 1.8026 - acc: 0.3466 - val_loss: 1.6028 - val_acc: 0.4430\n",
      "Epoch 2/100\n",
      "128/128 [==============================] - 6s 47ms/step - loss: 1.4691 - acc: 0.4781 - val_loss: 1.4663 - val_acc: 0.4867\n",
      "Epoch 3/100\n",
      "128/128 [==============================] - 6s 47ms/step - loss: 1.3316 - acc: 0.5293 - val_loss: 1.3266 - val_acc: 0.5250\n",
      "Epoch 4/100\n",
      "128/128 [==============================] - 6s 47ms/step - loss: 1.2267 - acc: 0.5655 - val_loss: 1.2404 - val_acc: 0.5773\n",
      "Epoch 5/100\n",
      "128/128 [==============================] - 6s 47ms/step - loss: 1.1688 - acc: 0.5906 - val_loss: 1.3359 - val_acc: 0.5352\n",
      "Epoch 6/100\n",
      "128/128 [==============================] - 6s 47ms/step - loss: 1.0979 - acc: 0.6111 - val_loss: 1.1211 - val_acc: 0.6180\n",
      "Epoch 7/100\n",
      "128/128 [==============================] - 6s 47ms/step - loss: 1.0719 - acc: 0.6268 - val_loss: 1.1570 - val_acc: 0.5992\n",
      "Epoch 8/100\n",
      "128/128 [==============================] - 6s 47ms/step - loss: 0.9911 - acc: 0.6534 - val_loss: 1.1122 - val_acc: 0.6188\n",
      "Epoch 9/100\n",
      "128/128 [==============================] - 6s 47ms/step - loss: 0.9662 - acc: 0.6625 - val_loss: 1.0839 - val_acc: 0.6320\n",
      "Epoch 10/100\n",
      "128/128 [==============================] - 6s 47ms/step - loss: 0.9436 - acc: 0.6702 - val_loss: 1.0385 - val_acc: 0.6477\n",
      "Epoch 11/100\n",
      "128/128 [==============================] - 6s 47ms/step - loss: 0.8959 - acc: 0.6877 - val_loss: 1.0057 - val_acc: 0.6484\n",
      "Epoch 12/100\n",
      "128/128 [==============================] - 6s 47ms/step - loss: 0.8700 - acc: 0.6985 - val_loss: 1.0529 - val_acc: 0.6445\n",
      "Epoch 13/100\n",
      "128/128 [==============================] - 6s 47ms/step - loss: 0.8084 - acc: 0.7172 - val_loss: 0.9901 - val_acc: 0.6602\n",
      "Epoch 14/100\n",
      "128/128 [==============================] - 6s 47ms/step - loss: 0.7923 - acc: 0.7261 - val_loss: 1.0148 - val_acc: 0.6547\n",
      "Epoch 15/100\n",
      "128/128 [==============================] - 6s 47ms/step - loss: 0.7560 - acc: 0.7375 - val_loss: 0.9845 - val_acc: 0.6750\n",
      "Epoch 16/100\n",
      "128/128 [==============================] - 6s 47ms/step - loss: 0.6960 - acc: 0.7623 - val_loss: 1.0014 - val_acc: 0.6617\n",
      "Epoch 17/100\n",
      "128/128 [==============================] - 6s 47ms/step - loss: 0.7079 - acc: 0.7526 - val_loss: 0.9819 - val_acc: 0.6687\n",
      "Epoch 18/100\n",
      "128/128 [==============================] - 6s 47ms/step - loss: 0.6011 - acc: 0.7939 - val_loss: 1.0136 - val_acc: 0.6773\n",
      "Epoch 19/100\n",
      "128/128 [==============================] - 6s 47ms/step - loss: 0.6228 - acc: 0.7808 - val_loss: 0.9926 - val_acc: 0.6602\n",
      "Epoch 20/100\n",
      "128/128 [==============================] - 6s 47ms/step - loss: 0.5679 - acc: 0.8021 - val_loss: 1.0254 - val_acc: 0.6875\n",
      "Epoch 21/100\n",
      "128/128 [==============================] - 6s 47ms/step - loss: 0.5076 - acc: 0.8272 - val_loss: 1.0377 - val_acc: 0.6727\n",
      "Epoch 22/100\n",
      "128/128 [==============================] - 6s 47ms/step - loss: 0.5235 - acc: 0.8190 - val_loss: 1.0201 - val_acc: 0.6844\n",
      "Epoch 23/100\n",
      "128/128 [==============================] - 6s 47ms/step - loss: 0.4305 - acc: 0.8511 - val_loss: 1.1041 - val_acc: 0.6656\n",
      "Epoch 24/100\n",
      "128/128 [==============================] - 6s 47ms/step - loss: 0.4307 - acc: 0.8514 - val_loss: 1.0621 - val_acc: 0.6789\n",
      "Epoch 25/100\n",
      "128/128 [==============================] - 6s 47ms/step - loss: 0.3852 - acc: 0.8685 - val_loss: 1.1233 - val_acc: 0.6836\n",
      "Epoch 26/100\n",
      "128/128 [==============================] - 6s 47ms/step - loss: 0.3515 - acc: 0.8818 - val_loss: 1.1789 - val_acc: 0.6695\n",
      "Epoch 27/100\n",
      "128/128 [==============================] - 6s 47ms/step - loss: 0.3692 - acc: 0.8742 - val_loss: 1.1621 - val_acc: 0.6828\n",
      "Epoch 28/100\n",
      "128/128 [==============================] - 6s 47ms/step - loss: 0.2705 - acc: 0.9131 - val_loss: 1.2327 - val_acc: 0.6875\n",
      "Epoch 29/100\n",
      "128/128 [==============================] - 6s 47ms/step - loss: 0.2796 - acc: 0.9051 - val_loss: 1.1774 - val_acc: 0.6898\n",
      "Epoch 30/100\n",
      "128/128 [==============================] - 6s 48ms/step - loss: 0.2260 - acc: 0.9277 - val_loss: 1.2709 - val_acc: 0.6844\n",
      "Epoch 31/100\n",
      "128/128 [==============================] - 6s 47ms/step - loss: 0.2092 - acc: 0.9326 - val_loss: 1.3757 - val_acc: 0.6594\n",
      "Epoch 32/100\n",
      "128/128 [==============================] - 6s 47ms/step - loss: 0.2268 - acc: 0.9234 - val_loss: 1.3708 - val_acc: 0.6813\n",
      "Epoch 33/100\n",
      "128/128 [==============================] - 6s 47ms/step - loss: 0.1474 - acc: 0.9546 - val_loss: 1.4132 - val_acc: 0.6695\n",
      "Epoch 34/100\n",
      "128/128 [==============================] - 6s 47ms/step - loss: 0.1607 - acc: 0.9497 - val_loss: 1.4578 - val_acc: 0.6805\n",
      "Epoch 35/100\n",
      "128/128 [==============================] - 6s 47ms/step - loss: 0.1272 - acc: 0.9620 - val_loss: 1.4559 - val_acc: 0.6750\n",
      "Epoch 36/100\n",
      "128/128 [==============================] - 6s 47ms/step - loss: 0.1239 - acc: 0.9620 - val_loss: 1.4626 - val_acc: 0.6859\n",
      "Epoch 37/100\n",
      "128/128 [==============================] - 6s 47ms/step - loss: 0.1232 - acc: 0.9600 - val_loss: 1.5221 - val_acc: 0.6781\n",
      "Epoch 38/100\n",
      "128/128 [==============================] - 6s 47ms/step - loss: 0.0843 - acc: 0.9761 - val_loss: 1.5739 - val_acc: 0.6937\n",
      "Epoch 39/100\n",
      "128/128 [==============================] - 6s 47ms/step - loss: 0.0983 - acc: 0.9695 - val_loss: 1.6298 - val_acc: 0.6734\n",
      "Epoch 40/100\n",
      "128/128 [==============================] - 6s 48ms/step - loss: 0.0628 - acc: 0.9841 - val_loss: 1.6604 - val_acc: 0.6766\n",
      "Epoch 41/100\n",
      "128/128 [==============================] - 6s 47ms/step - loss: 0.0915 - acc: 0.9717 - val_loss: 1.6837 - val_acc: 0.6609\n",
      "Epoch 42/100\n",
      "128/128 [==============================] - 6s 47ms/step - loss: 0.1138 - acc: 0.9638 - val_loss: 1.6803 - val_acc: 0.6750\n",
      "Epoch 43/100\n",
      "128/128 [==============================] - 6s 47ms/step - loss: 0.0621 - acc: 0.9826 - val_loss: 1.6747 - val_acc: 0.6859\n",
      "Epoch 44/100\n",
      "128/128 [==============================] - 6s 47ms/step - loss: 0.0567 - acc: 0.9847 - val_loss: 1.9257 - val_acc: 0.6680\n",
      "Epoch 45/100\n",
      "128/128 [==============================] - 6s 47ms/step - loss: 0.0450 - acc: 0.9880 - val_loss: 1.8099 - val_acc: 0.6922\n",
      "Epoch 46/100\n",
      "128/128 [==============================] - 6s 47ms/step - loss: 0.1109 - acc: 0.9609 - val_loss: 1.7759 - val_acc: 0.6570\n",
      "Epoch 47/100\n",
      "128/128 [==============================] - 6s 48ms/step - loss: 0.0774 - acc: 0.9758 - val_loss: 1.8237 - val_acc: 0.6742\n",
      "Epoch 48/100\n",
      "128/128 [==============================] - 6s 47ms/step - loss: 0.0386 - acc: 0.9896 - val_loss: 2.0073 - val_acc: 0.6711\n",
      "Epoch 49/100\n",
      "128/128 [==============================] - 6s 47ms/step - loss: 0.0786 - acc: 0.9740 - val_loss: 1.8479 - val_acc: 0.6664\n",
      "Epoch 50/100\n",
      "128/128 [==============================] - 6s 47ms/step - loss: 0.0485 - acc: 0.9855 - val_loss: 1.9033 - val_acc: 0.6805\n",
      "Epoch 51/100\n",
      "128/128 [==============================] - 6s 47ms/step - loss: 0.0455 - acc: 0.9864 - val_loss: 1.9360 - val_acc: 0.6727\n",
      "Epoch 52/100\n",
      "128/128 [==============================] - 6s 47ms/step - loss: 0.0303 - acc: 0.9932 - val_loss: 2.0208 - val_acc: 0.6758\n",
      "Epoch 53/100\n",
      "128/128 [==============================] - 6s 47ms/step - loss: 0.0170 - acc: 0.9962 - val_loss: 2.0982 - val_acc: 0.6664\n",
      "Epoch 54/100\n",
      "128/128 [==============================] - 6s 48ms/step - loss: 0.0528 - acc: 0.9830 - val_loss: 2.0415 - val_acc: 0.6609\n",
      "Epoch 55/100\n",
      "128/128 [==============================] - 6s 47ms/step - loss: 0.0668 - acc: 0.9790 - val_loss: 2.0393 - val_acc: 0.6562\n",
      "Epoch 56/100\n",
      "128/128 [==============================] - 6s 47ms/step - loss: 0.1038 - acc: 0.9642 - val_loss: 2.0534 - val_acc: 0.6609\n",
      "Epoch 57/100\n",
      "128/128 [==============================] - 6s 47ms/step - loss: 0.0636 - acc: 0.9793 - val_loss: 2.0729 - val_acc: 0.6625\n",
      "Epoch 58/100\n",
      "128/128 [==============================] - 6s 47ms/step - loss: 0.0703 - acc: 0.9771 - val_loss: 2.0982 - val_acc: 0.6531\n",
      "Epoch 59/100\n",
      "128/128 [==============================] - 6s 48ms/step - loss: 0.0642 - acc: 0.9785 - val_loss: 2.0698 - val_acc: 0.6703\n",
      "Epoch 60/100\n",
      "128/128 [==============================] - 6s 47ms/step - loss: 0.0274 - acc: 0.9922 - val_loss: 2.1296 - val_acc: 0.6766\n",
      "Epoch 61/100\n",
      "128/128 [==============================] - 6s 47ms/step - loss: 0.0366 - acc: 0.9890 - val_loss: 2.1510 - val_acc: 0.6734\n"
     ]
    },
    {
     "name": "stdout",
     "output_type": "stream",
     "text": [
      "Epoch 62/100\n",
      "128/128 [==============================] - 6s 47ms/step - loss: 0.0178 - acc: 0.9955 - val_loss: 2.1375 - val_acc: 0.6695\n",
      "Epoch 63/100\n",
      "128/128 [==============================] - 6s 47ms/step - loss: 0.0219 - acc: 0.9935 - val_loss: 2.1490 - val_acc: 0.6828\n",
      "Epoch 64/100\n",
      "128/128 [==============================] - 6s 48ms/step - loss: 0.0494 - acc: 0.9842 - val_loss: 2.2038 - val_acc: 0.6680\n",
      "Epoch 65/100\n",
      "128/128 [==============================] - 6s 47ms/step - loss: 0.0771 - acc: 0.9740 - val_loss: 2.0853 - val_acc: 0.6695\n",
      "Epoch 66/100\n",
      "128/128 [==============================] - 6s 47ms/step - loss: 0.0633 - acc: 0.9782 - val_loss: 2.2627 - val_acc: 0.6484\n",
      "Epoch 67/100\n",
      "128/128 [==============================] - 6s 47ms/step - loss: 0.0462 - acc: 0.9847 - val_loss: 2.1000 - val_acc: 0.6602\n",
      "Epoch 68/100\n",
      "128/128 [==============================] - 6s 47ms/step - loss: 0.0390 - acc: 0.9876 - val_loss: 2.1254 - val_acc: 0.6805\n",
      "Epoch 69/100\n",
      "128/128 [==============================] - 6s 47ms/step - loss: 0.0367 - acc: 0.9879 - val_loss: 2.3259 - val_acc: 0.6594\n",
      "Epoch 70/100\n",
      "128/128 [==============================] - 6s 47ms/step - loss: 0.0410 - acc: 0.9870 - val_loss: 2.1795 - val_acc: 0.6742\n",
      "Epoch 71/100\n",
      "128/128 [==============================] - 6s 47ms/step - loss: 0.0304 - acc: 0.9908 - val_loss: 2.2928 - val_acc: 0.6648\n",
      "Epoch 72/100\n",
      "128/128 [==============================] - 6s 47ms/step - loss: 0.0454 - acc: 0.9858 - val_loss: 2.3277 - val_acc: 0.6578\n",
      "Epoch 73/100\n",
      "128/128 [==============================] - 6s 47ms/step - loss: 0.0748 - acc: 0.9750 - val_loss: 2.3800 - val_acc: 0.6352\n",
      "Epoch 74/100\n",
      "128/128 [==============================] - 6s 47ms/step - loss: 0.0507 - acc: 0.9829 - val_loss: 2.4004 - val_acc: 0.6656\n",
      "Epoch 75/100\n",
      "128/128 [==============================] - 6s 47ms/step - loss: 0.0273 - acc: 0.9915 - val_loss: 2.3131 - val_acc: 0.6703\n",
      "Epoch 76/100\n",
      "128/128 [==============================] - 6s 47ms/step - loss: 0.0494 - acc: 0.9849 - val_loss: 2.3062 - val_acc: 0.6609\n",
      "Epoch 77/100\n",
      "128/128 [==============================] - 6s 47ms/step - loss: 0.0284 - acc: 0.9923 - val_loss: 2.3479 - val_acc: 0.6586\n",
      "Epoch 78/100\n",
      "128/128 [==============================] - 6s 47ms/step - loss: 0.0378 - acc: 0.9875 - val_loss: 2.4158 - val_acc: 0.6617\n",
      "Epoch 79/100\n",
      "128/128 [==============================] - 6s 47ms/step - loss: 0.0338 - acc: 0.9885 - val_loss: 2.5260 - val_acc: 0.6523\n",
      "Epoch 80/100\n",
      "128/128 [==============================] - 6s 47ms/step - loss: 0.0441 - acc: 0.9853 - val_loss: 2.3967 - val_acc: 0.6539\n",
      "Epoch 81/100\n",
      "128/128 [==============================] - 6s 47ms/step - loss: 0.0314 - acc: 0.9904 - val_loss: 2.4563 - val_acc: 0.6656\n",
      "Epoch 82/100\n",
      "128/128 [==============================] - 6s 47ms/step - loss: 0.0405 - acc: 0.9875 - val_loss: 2.3781 - val_acc: 0.6547\n",
      "Epoch 83/100\n",
      "128/128 [==============================] - 6s 47ms/step - loss: 0.0289 - acc: 0.9900 - val_loss: 2.4463 - val_acc: 0.6523\n",
      "Epoch 84/100\n",
      "128/128 [==============================] - 6s 47ms/step - loss: 0.0193 - acc: 0.9950 - val_loss: 2.6190 - val_acc: 0.6469\n",
      "Epoch 85/100\n",
      "128/128 [==============================] - 6s 47ms/step - loss: 0.0342 - acc: 0.9885 - val_loss: 2.5862 - val_acc: 0.6367\n",
      "Epoch 86/100\n",
      "128/128 [==============================] - 6s 48ms/step - loss: 0.0666 - acc: 0.9777 - val_loss: 2.4603 - val_acc: 0.6633\n",
      "Epoch 87/100\n",
      "128/128 [==============================] - 6s 47ms/step - loss: 0.0415 - acc: 0.9855 - val_loss: 2.4999 - val_acc: 0.6602\n",
      "Epoch 88/100\n",
      "128/128 [==============================] - 6s 47ms/step - loss: 0.0703 - acc: 0.9771 - val_loss: 2.5717 - val_acc: 0.6352\n",
      "Epoch 89/100\n",
      "128/128 [==============================] - 6s 48ms/step - loss: 0.0398 - acc: 0.9871 - val_loss: 2.4766 - val_acc: 0.6734\n",
      "Epoch 90/100\n",
      "128/128 [==============================] - 6s 47ms/step - loss: 0.0287 - acc: 0.9899 - val_loss: 2.5144 - val_acc: 0.6625\n",
      "Epoch 91/100\n",
      "128/128 [==============================] - 6s 48ms/step - loss: 0.0217 - acc: 0.9938 - val_loss: 2.4936 - val_acc: 0.6617\n",
      "Epoch 92/100\n",
      "128/128 [==============================] - 6s 47ms/step - loss: 0.0148 - acc: 0.9963 - val_loss: 2.4268 - val_acc: 0.6719\n",
      "Epoch 93/100\n",
      "128/128 [==============================] - 6s 47ms/step - loss: 0.0275 - acc: 0.9910 - val_loss: 2.5795 - val_acc: 0.6602\n",
      "Epoch 94/100\n",
      "128/128 [==============================] - 6s 47ms/step - loss: 0.0271 - acc: 0.9911 - val_loss: 2.5977 - val_acc: 0.6539\n",
      "Epoch 95/100\n",
      "128/128 [==============================] - 6s 47ms/step - loss: 0.0437 - acc: 0.9863 - val_loss: 2.5213 - val_acc: 0.6570\n",
      "Epoch 96/100\n",
      "128/128 [==============================] - 6s 47ms/step - loss: 0.0321 - acc: 0.9902 - val_loss: 2.5519 - val_acc: 0.6625\n",
      "Epoch 97/100\n",
      "128/128 [==============================] - 6s 47ms/step - loss: 0.0146 - acc: 0.9952 - val_loss: 2.6178 - val_acc: 0.6680\n",
      "Epoch 98/100\n",
      "128/128 [==============================] - 6s 47ms/step - loss: 0.0751 - acc: 0.9789 - val_loss: 2.7218 - val_acc: 0.6172\n",
      "Epoch 99/100\n",
      "128/128 [==============================] - 6s 47ms/step - loss: 0.0583 - acc: 0.9805 - val_loss: 2.4974 - val_acc: 0.6672\n",
      "Epoch 100/100\n",
      "128/128 [==============================] - 6s 47ms/step - loss: 0.0311 - acc: 0.9897 - val_loss: 2.6123 - val_acc: 0.6648\n"
     ]
    },
    {
     "data": {
      "text/plain": [
       "<keras.callbacks.History at 0x7f04dc48f898>"
      ]
     },
     "execution_count": 17,
     "metadata": {},
     "output_type": "execute_result"
    }
   ],
   "source": [
    "# Run the training\n",
    "model.fit_generator(train_gen,\n",
    "                    steps_per_epoch=batch_size,\n",
    "                    epochs=epochs,\n",
    "                    verbose=1,\n",
    "                    validation_data=valid_gen,\n",
    "                    validation_steps=10,\n",
    "                    class_weight=None,\n",
    "                    callbacks=[history])"
   ]
  },
  {
   "cell_type": "code",
   "execution_count": 18,
   "metadata": {},
   "outputs": [
    {
     "name": "stdout",
     "output_type": "stream",
     "text": [
      "Test score: 2.478132927417755\n",
      "Test accuracy: 0.677734375\n"
     ]
    }
   ],
   "source": [
    "# Evaluate score\n",
    "score = model.evaluate_generator(test_gen, steps=20, max_queue_size=256)\n",
    "print(\"Test score: {}\".format(score[0]))\n",
    "print(\"Test accuracy: {}\".format(score[1]))"
   ]
  },
  {
   "cell_type": "code",
   "execution_count": 20,
   "metadata": {},
   "outputs": [
    {
     "data": {
      "text/plain": [
       "<matplotlib.legend.Legend at 0x7f04b15ab208>"
      ]
     },
     "execution_count": 20,
     "metadata": {},
     "output_type": "execute_result"
    },
    {
     "data": {
      "image/png": "[encoded data removed]",
      "text/plain": [
       "<Figure size 1008x360 with 2 Axes>"
      ]
     },
     "metadata": {},
     "output_type": "display_data"
    }
   ],
   "source": [
    "%matplotlib inline\n",
    "import matplotlib\n",
    "import matplotlib.pyplot as plt\n",
    "\n",
    "# Summarize history\n",
    "f = plt.figure(figsize=(14,5))\n",
    "\n",
    "# Summarize accuracy history\n",
    "plt.subplot(1,2,1)\n",
    "plt.plot(history.acc)\n",
    "plt.plot(history.val_acc)\n",
    "plt.title('Model Accuracy')\n",
    "plt.ylabel('Accuracy')\n",
    "plt.xlabel('Epoch')\n",
    "plt.legend(['train', 'val'], loc='upper left')\n",
    "\n",
    "plt.subplot(1,2,2)\n",
    "# Summarize loss history\n",
    "plt.plot(history.loss)\n",
    "plt.plot(history.val_loss)\n",
    "plt.title('Model Loss')\n",
    "plt.ylabel('Loss')\n",
    "plt.xlabel('Epoch')\n",
    "plt.legend(['train', 'val'], loc='upper right')\n",
    "#plt.show()"
   ]
  },
  {
   "cell_type": "code",
   "execution_count": null,
   "metadata": {},
   "outputs": [],
   "source": []
  }
 ],
 "metadata": {
  "kernelspec": {
   "display_name": "Python 2",
   "language": "python",
   "name": "python2"
  },
  "language_info": {
   "codemirror_mode": {
    "name": "ipython",
    "version": 3
   },
   "file_extension": ".py",
   "mimetype": "text/x-python",
   "name": "python",
   "nbconvert_exporter": "python",
   "pygments_lexer": "ipython3",
   "version": "3.5.2"
  }
 },
 "nbformat": 4,
 "nbformat_minor": 2
}
