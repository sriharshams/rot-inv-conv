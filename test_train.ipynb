{
 "cells": [
  {
   "cell_type": "code",
   "execution_count": 1,
   "metadata": {},
   "outputs": [],
   "source": [
    "%matplotlib inline\n",
    "\n",
    "import matplotlib\n",
    "import numpy as np\n",
    "import matplotlib.pyplot as plt"
   ]
  },
  {
   "cell_type": "code",
   "execution_count": 2,
   "metadata": {},
   "outputs": [
    {
     "name": "stderr",
     "output_type": "stream",
     "text": [
      "/home/zhampel/py-venv/python3/lib/python3.5/site-packages/h5py/__init__.py:36: FutureWarning: Conversion of the second argument of issubdtype from `float` to `np.floating` is deprecated. In future, it will be treated as `np.float64 == np.dtype(float).type`.\n",
      "  from ._conv import register_converters as _register_converters\n",
      "Using TensorFlow backend.\n"
     ]
    }
   ],
   "source": [
    "%run load_data.py"
   ]
  },
  {
   "cell_type": "code",
   "execution_count": 3,
   "metadata": {},
   "outputs": [
    {
     "name": "stdout",
     "output_type": "stream",
     "text": [
      "(28, 28)\n"
     ]
    }
   ],
   "source": [
    "# Load an image and get its label\n",
    "img_id = 10\n",
    "#head_dir='/Users/zhampel/insight/project/data/mnist/pngs'\n",
    "head_dir='/home/zhampel/insight/data/mnist/pngs'\n",
    "filepath=head_dir+'/training/0/17095.png'\n",
    "img, img_shape = load_single_image(filepath)\n",
    "print(img_shape)"
   ]
  },
  {
   "cell_type": "markdown",
   "metadata": {},
   "source": [
    "# Test generator function"
   ]
  },
  {
   "cell_type": "code",
   "execution_count": 4,
   "metadata": {},
   "outputs": [
    {
     "name": "stdout",
     "output_type": "stream",
     "text": [
      "Found 48004 images belonging to 10 classes.\n",
      "Found 11996 images belonging to 10 classes.\n"
     ]
    }
   ],
   "source": [
    "batch_size=128\n",
    "filepath='/home/zhampel/insight/data/mnist/pngs'\n",
    "trainpath=filepath+'/training/'\n",
    "train_gen, valid_gen = train_img_generator(path_to_data=trainpath, \\\n",
    "                                           target_size=(28, 28), \\\n",
    "                                           batch_size=batch_size, \\\n",
    "                                           val_split=0.2)"
   ]
  },
  {
   "cell_type": "code",
   "execution_count": 5,
   "metadata": {},
   "outputs": [
    {
     "name": "stdout",
     "output_type": "stream",
     "text": [
      "Found 10000 images belonging to 10 classes.\n",
      "10\n"
     ]
    }
   ],
   "source": [
    "testpath=filepath+'/testing/'\n",
    "test_gen = test_img_generator(path_to_data=testpath, \\\n",
    "                              target_size=(28, 28), \\\n",
    "                              batch_size=batch_size)\n",
    "print(test_gen.num_classes)"
   ]
  },
  {
   "cell_type": "code",
   "execution_count": 8,
   "metadata": {},
   "outputs": [],
   "source": [
    "from keras.models import Sequential\n",
    "from keras.layers.core import Dense, Activation\n",
    "from keras.optimizers import SGD\n",
    "from keras.utils import np_utils\n",
    "\n",
    "np.random.seed(1671)\n",
    "np.set_printoptions(threshold='nan')"
   ]
  },
  {
   "cell_type": "code",
   "execution_count": 9,
   "metadata": {},
   "outputs": [],
   "source": [
    "import keras\n",
    "from keras.layers import Dense, Flatten\n",
    "from keras.layers import Conv2D, MaxPooling2D\n",
    "from keras.models import Sequential"
   ]
  },
  {
   "cell_type": "code",
   "execution_count": 10,
   "metadata": {},
   "outputs": [],
   "source": [
    "# Specifics\n",
    "batch_size = 128\n",
    "epochs = 10\n",
    "\n",
    "class History(keras.callbacks.Callback):\n",
    "    def on_train_begin(self, logs={}):\n",
    "        self.acc = []\n",
    "        self.val_acc = []\n",
    "        self.loss = []\n",
    "        self.val_loss = []\n",
    "\n",
    "    def on_epoch_end(self, batch, logs={}):\n",
    "        self.acc.append(logs.get('acc'))\n",
    "        self.val_acc.append(logs.get('val_acc'))\n",
    "        self.loss.append(logs.get('loss'))\n",
    "        self.val_loss.append(logs.get('val_loss'))"
   ]
  },
  {
   "cell_type": "code",
   "execution_count": 14,
   "metadata": {},
   "outputs": [],
   "source": [
    "#img, label = load_img(filepath, img_id=10, file_type='png')\n",
    "test_image_path = '/home/zhampel/insight/data/mnist/pngs/training/0/17095.png'\n",
    "img, img_shape = load_single_image(test_image_path)\n",
    "input_shape = (img.shape[0], img.shape[1], 3)\n",
    "num_classes = train_gen.num_classes\n",
    "# History\n",
    "history = History()\n",
    "# Model\n",
    "model = Sequential()\n",
    "model.add(Conv2D(32, kernel_size=(5, 5), strides=(1, 1),\n",
    "                 activation='relu',\n",
    "                 input_shape=input_shape))\n",
    "model.add(MaxPooling2D(pool_size=(2, 2), strides=(2, 2)))\n",
    "model.add(Conv2D(64, (5, 5), activation='relu'))\n",
    "model.add(MaxPooling2D(pool_size=(2, 2)))\n",
    "model.add(Flatten())\n",
    "model.add(Dense(1000, activation='relu'))\n",
    "model.add(Dense(num_classes, activation='softmax'))\n",
    "model.compile(loss=keras.losses.categorical_crossentropy,\n",
    "              optimizer=keras.optimizers.Adam(),\n",
    "              metrics=['accuracy'])"
   ]
  },
  {
   "cell_type": "code",
   "execution_count": 15,
   "metadata": {},
   "outputs": [],
   "source": [
    "#trainpath=head_dir+'/training/'\n",
    "#train_gen = img_generator(trainpath, batch_size=batch_size, n_classes=num_classes, samples=[0, 50000])\n",
    "\n",
    "#valpath=head_dir+'/training/'\n",
    "#valid_gen = img_generator(valpath, batch_size=batch_size, n_classes=num_classes, samples=[50000, 60000])\n",
    "\n",
    "#testpath=head_dir+'/testing/'\n",
    "#test_gen = img_generator(testpath, batch_size=batch_size, n_classes=num_classes, samples=[0,20000])"
   ]
  },
  {
   "cell_type": "code",
   "execution_count": 16,
   "metadata": {},
   "outputs": [
    {
     "name": "stdout",
     "output_type": "stream",
     "text": [
      "Epoch 1/10\n",
      "128/128 [==============================] - 4s 30ms/step - loss: 0.3075 - acc: 0.9089 - val_loss: 0.0794 - val_acc: 0.9734\n",
      "Epoch 2/10\n",
      "128/128 [==============================] - 3s 21ms/step - loss: 0.0836 - acc: 0.9747 - val_loss: 0.0509 - val_acc: 0.9852\n",
      "Epoch 3/10\n",
      "128/128 [==============================] - 3s 22ms/step - loss: 0.0615 - acc: 0.9799 - val_loss: 0.0573 - val_acc: 0.9820\n",
      "Epoch 4/10\n",
      "128/128 [==============================] - 3s 21ms/step - loss: 0.0431 - acc: 0.9871 - val_loss: 0.0512 - val_acc: 0.9883\n",
      "Epoch 5/10\n",
      "128/128 [==============================] - 3s 21ms/step - loss: 0.0437 - acc: 0.9864 - val_loss: 0.0346 - val_acc: 0.9906\n",
      "Epoch 6/10\n",
      "128/128 [==============================] - 3s 21ms/step - loss: 0.0338 - acc: 0.9882 - val_loss: 0.0411 - val_acc: 0.9875\n",
      "Epoch 7/10\n",
      "128/128 [==============================] - 3s 20ms/step - loss: 0.0280 - acc: 0.9908 - val_loss: 0.0318 - val_acc: 0.9883\n",
      "Epoch 8/10\n",
      "128/128 [==============================] - 3s 21ms/step - loss: 0.0269 - acc: 0.9912 - val_loss: 0.0669 - val_acc: 0.9797\n",
      "Epoch 9/10\n",
      "128/128 [==============================] - 3s 21ms/step - loss: 0.0298 - acc: 0.9910 - val_loss: 0.0377 - val_acc: 0.9906\n",
      "Epoch 10/10\n",
      "128/128 [==============================] - 3s 21ms/step - loss: 0.0195 - acc: 0.9940 - val_loss: 0.0269 - val_acc: 0.9930\n"
     ]
    },
    {
     "data": {
      "text/plain": [
       "<keras.callbacks.History at 0x7fbdbb6b2e80>"
      ]
     },
     "execution_count": 16,
     "metadata": {},
     "output_type": "execute_result"
    }
   ],
   "source": [
    "# Run the training\n",
    "model.fit_generator(train_gen,\n",
    "                    steps_per_epoch=batch_size,\n",
    "                    epochs=epochs,\n",
    "                    verbose=1,\n",
    "                    validation_data=valid_gen,\n",
    "                    validation_steps=10,\n",
    "                    class_weight=None,\n",
    "                    callbacks=[history])"
   ]
  },
  {
   "cell_type": "code",
   "execution_count": 17,
   "metadata": {},
   "outputs": [
    {
     "name": "stdout",
     "output_type": "stream",
     "text": [
      "Test score: 0.011446002870798111\n",
      "Test accuracy: 0.9921875\n"
     ]
    }
   ],
   "source": [
    "# Evaluate score\n",
    "score = model.evaluate_generator(test_gen, steps=1, max_queue_size=10)\n",
    "print(\"Test score: {}\".format(score[0]))\n",
    "print(\"Test accuracy: {}\".format(score[1]))"
   ]
  },
  {
   "cell_type": "code",
   "execution_count": 18,
   "metadata": {},
   "outputs": [
    {
     "data": {
      "text/plain": [
       "<matplotlib.legend.Legend at 0x7fbdb9f96ef0>"
      ]
     },
     "execution_count": 18,
     "metadata": {},
     "output_type": "execute_result"
    },
    {
     "data": {
      "image/png": "[encoded data removed]",
      "text/plain": [
       "<Figure size 1008x360 with 2 Axes>"
      ]
     },
     "metadata": {},
     "output_type": "display_data"
    }
   ],
   "source": [
    "# Summarize history\n",
    "f = plt.figure(figsize=(14,5))\n",
    "\n",
    "# Summarize accuracy history\n",
    "plt.subplot(1,2,1)\n",
    "plt.plot(history.acc)\n",
    "plt.plot(history.val_acc)\n",
    "plt.title('Model Accuracy')\n",
    "plt.ylabel('Accuracy')\n",
    "plt.xlabel('Epoch')\n",
    "plt.legend(['train', 'val'], loc='upper left')\n",
    "\n",
    "plt.subplot(1,2,2)\n",
    "# Summarize loss history\n",
    "plt.plot(history.loss)\n",
    "plt.plot(history.val_loss)\n",
    "plt.title('Model Loss')\n",
    "plt.ylabel('Loss')\n",
    "plt.xlabel('Epoch')\n",
    "plt.legend(['train', 'val'], loc='upper right')\n",
    "#plt.show()"
   ]
  },
  {
   "cell_type": "code",
   "execution_count": null,
   "metadata": {},
   "outputs": [],
   "source": []
  }
 ],
 "metadata": {
  "kernelspec": {
   "display_name": "Python 2",
   "language": "python",
   "name": "python2"
  },
  "language_info": {
   "codemirror_mode": {
    "name": "ipython",
    "version": 3
   },
   "file_extension": ".py",
   "mimetype": "text/x-python",
   "name": "python",
   "nbconvert_exporter": "python",
   "pygments_lexer": "ipython3",
   "version": "3.5.2"
  }
 },
 "nbformat": 4,
 "nbformat_minor": 2
}
